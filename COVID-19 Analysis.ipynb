{
 "cells": [
  {
   "cell_type": "markdown",
   "metadata": {},
   "source": [
    "# Machine learning-based prediction of COVID-19 diagnosis based on symptoms"
   ]
  },
  {
   "cell_type": "markdown",
   "metadata": {},
   "source": [
    "To delve deeper into details about the dataset and model: https://docs.google.com/document/d/101CHjVjsDVh6TEnL_tgy6WcuD1y6gc2n5DfpRygjcW0/edit?usp=sharing"
   ]
  },
  {
   "cell_type": "code",
   "execution_count": 1,
   "metadata": {},
   "outputs": [],
   "source": [
    "#Required Libraries\n",
    "import pandas as pd\n",
    "import matplotlib.pyplot as plt\n",
    "import seaborn as sns"
   ]
  },
  {
   "cell_type": "code",
   "execution_count": 2,
   "metadata": {},
   "outputs": [
    {
     "name": "stderr",
     "output_type": "stream",
     "text": [
      "C:\\Users\\RIYA BONGIRWAR\\anaconda3\\lib\\site-packages\\IPython\\core\\interactiveshell.py:3146: DtypeWarning: Columns (2,3,4,5,6) have mixed types.Specify dtype option on import or set low_memory=False.\n",
      "  has_raised = await self.run_ast_nodes(code_ast.body, cell_name,\n"
     ]
    }
   ],
   "source": [
    "#Read the data\n",
    "df = pd.read_csv(\"corona_tested_006.csv\")"
   ]
  },
  {
   "cell_type": "code",
   "execution_count": 3,
   "metadata": {},
   "outputs": [
    {
     "data": {
      "text/html": [
       "<div>\n",
       "<style scoped>\n",
       "    .dataframe tbody tr th:only-of-type {\n",
       "        vertical-align: middle;\n",
       "    }\n",
       "\n",
       "    .dataframe tbody tr th {\n",
       "        vertical-align: top;\n",
       "    }\n",
       "\n",
       "    .dataframe thead th {\n",
       "        text-align: right;\n",
       "    }\n",
       "</style>\n",
       "<table border=\"1\" class=\"dataframe\">\n",
       "  <thead>\n",
       "    <tr style=\"text-align: right;\">\n",
       "      <th></th>\n",
       "      <th>Ind_ID</th>\n",
       "      <th>Test_date</th>\n",
       "      <th>Cough_symptoms</th>\n",
       "      <th>Fever</th>\n",
       "      <th>Sore_throat</th>\n",
       "      <th>Shortness_of_breath</th>\n",
       "      <th>Headache</th>\n",
       "      <th>Corona</th>\n",
       "      <th>Age_60_above</th>\n",
       "      <th>Sex</th>\n",
       "      <th>Known_contact</th>\n",
       "    </tr>\n",
       "  </thead>\n",
       "  <tbody>\n",
       "    <tr>\n",
       "      <th>173618</th>\n",
       "      <td>173619</td>\n",
       "      <td>17-04-2020</td>\n",
       "      <td>False</td>\n",
       "      <td>False</td>\n",
       "      <td>False</td>\n",
       "      <td>False</td>\n",
       "      <td>False</td>\n",
       "      <td>negative</td>\n",
       "      <td>None</td>\n",
       "      <td>male</td>\n",
       "      <td>Other</td>\n",
       "    </tr>\n",
       "    <tr>\n",
       "      <th>264894</th>\n",
       "      <td>264895</td>\n",
       "      <td>28-04-2020</td>\n",
       "      <td>False</td>\n",
       "      <td>False</td>\n",
       "      <td>False</td>\n",
       "      <td>False</td>\n",
       "      <td>False</td>\n",
       "      <td>negative</td>\n",
       "      <td>None</td>\n",
       "      <td>female</td>\n",
       "      <td>Other</td>\n",
       "    </tr>\n",
       "    <tr>\n",
       "      <th>156412</th>\n",
       "      <td>156413</td>\n",
       "      <td>15-04-2020</td>\n",
       "      <td>False</td>\n",
       "      <td>False</td>\n",
       "      <td>False</td>\n",
       "      <td>False</td>\n",
       "      <td>False</td>\n",
       "      <td>negative</td>\n",
       "      <td>None</td>\n",
       "      <td>male</td>\n",
       "      <td>Other</td>\n",
       "    </tr>\n",
       "    <tr>\n",
       "      <th>19124</th>\n",
       "      <td>19125</td>\n",
       "      <td>23-03-2020</td>\n",
       "      <td>FALSE</td>\n",
       "      <td>FALSE</td>\n",
       "      <td>FALSE</td>\n",
       "      <td>FALSE</td>\n",
       "      <td>FALSE</td>\n",
       "      <td>negative</td>\n",
       "      <td>No</td>\n",
       "      <td>female</td>\n",
       "      <td>Other</td>\n",
       "    </tr>\n",
       "    <tr>\n",
       "      <th>36817</th>\n",
       "      <td>36818</td>\n",
       "      <td>26-03-2020</td>\n",
       "      <td>FALSE</td>\n",
       "      <td>FALSE</td>\n",
       "      <td>FALSE</td>\n",
       "      <td>FALSE</td>\n",
       "      <td>FALSE</td>\n",
       "      <td>negative</td>\n",
       "      <td>No</td>\n",
       "      <td>female</td>\n",
       "      <td>Other</td>\n",
       "    </tr>\n",
       "  </tbody>\n",
       "</table>\n",
       "</div>"
      ],
      "text/plain": [
       "        Ind_ID   Test_date Cough_symptoms  Fever Sore_throat  \\\n",
       "173618  173619  17-04-2020          False  False       False   \n",
       "264894  264895  28-04-2020          False  False       False   \n",
       "156412  156413  15-04-2020          False  False       False   \n",
       "19124    19125  23-03-2020          FALSE  FALSE       FALSE   \n",
       "36817    36818  26-03-2020          FALSE  FALSE       FALSE   \n",
       "\n",
       "       Shortness_of_breath Headache    Corona Age_60_above     Sex  \\\n",
       "173618               False    False  negative         None    male   \n",
       "264894               False    False  negative         None  female   \n",
       "156412               False    False  negative         None    male   \n",
       "19124                FALSE    FALSE  negative           No  female   \n",
       "36817                FALSE    FALSE  negative           No  female   \n",
       "\n",
       "       Known_contact  \n",
       "173618         Other  \n",
       "264894         Other  \n",
       "156412         Other  \n",
       "19124          Other  \n",
       "36817          Other  "
      ]
     },
     "execution_count": 3,
     "metadata": {},
     "output_type": "execute_result"
    }
   ],
   "source": [
    "df.sample(5)"
   ]
  },
  {
   "cell_type": "code",
   "execution_count": 4,
   "metadata": {},
   "outputs": [
    {
     "data": {
      "text/plain": [
       "Index(['Ind_ID', 'Test_date', 'Cough_symptoms', 'Fever', 'Sore_throat',\n",
       "       'Shortness_of_breath', 'Headache', 'Corona', 'Age_60_above', 'Sex',\n",
       "       'Known_contact'],\n",
       "      dtype='object')"
      ]
     },
     "execution_count": 4,
     "metadata": {},
     "output_type": "execute_result"
    }
   ],
   "source": [
    "#The Columns of Dataset\n",
    "df.columns"
   ]
  },
  {
   "cell_type": "code",
   "execution_count": 5,
   "metadata": {},
   "outputs": [
    {
     "data": {
      "text/plain": [
       "(278848, 11)"
      ]
     },
     "execution_count": 5,
     "metadata": {},
     "output_type": "execute_result"
    }
   ],
   "source": [
    "#Number of Rows and Columns in Dataset\n",
    "df.shape"
   ]
  },
  {
   "cell_type": "code",
   "execution_count": 6,
   "metadata": {},
   "outputs": [
    {
     "name": "stdout",
     "output_type": "stream",
     "text": [
      "<class 'pandas.core.frame.DataFrame'>\n",
      "RangeIndex: 278848 entries, 0 to 278847\n",
      "Data columns (total 11 columns):\n",
      " #   Column               Non-Null Count   Dtype \n",
      "---  ------               --------------   ----- \n",
      " 0   Ind_ID               278848 non-null  int64 \n",
      " 1   Test_date            278848 non-null  object\n",
      " 2   Cough_symptoms       278848 non-null  object\n",
      " 3   Fever                278848 non-null  object\n",
      " 4   Sore_throat          278848 non-null  object\n",
      " 5   Shortness_of_breath  278848 non-null  object\n",
      " 6   Headache             278848 non-null  object\n",
      " 7   Corona               278848 non-null  object\n",
      " 8   Age_60_above         278848 non-null  object\n",
      " 9   Sex                  278848 non-null  object\n",
      " 10  Known_contact        278848 non-null  object\n",
      "dtypes: int64(1), object(10)\n",
      "memory usage: 23.4+ MB\n"
     ]
    }
   ],
   "source": [
    "df.info()"
   ]
  },
  {
   "cell_type": "code",
   "execution_count": 7,
   "metadata": {},
   "outputs": [
    {
     "data": {
      "text/html": [
       "<div>\n",
       "<style scoped>\n",
       "    .dataframe tbody tr th:only-of-type {\n",
       "        vertical-align: middle;\n",
       "    }\n",
       "\n",
       "    .dataframe tbody tr th {\n",
       "        vertical-align: top;\n",
       "    }\n",
       "\n",
       "    .dataframe thead th {\n",
       "        text-align: right;\n",
       "    }\n",
       "</style>\n",
       "<table border=\"1\" class=\"dataframe\">\n",
       "  <thead>\n",
       "    <tr style=\"text-align: right;\">\n",
       "      <th></th>\n",
       "      <th>Ind_ID</th>\n",
       "      <th>Test_date</th>\n",
       "      <th>Cough_symptoms</th>\n",
       "      <th>Fever</th>\n",
       "      <th>Sore_throat</th>\n",
       "      <th>Shortness_of_breath</th>\n",
       "      <th>Headache</th>\n",
       "      <th>Corona</th>\n",
       "      <th>Age_60_above</th>\n",
       "      <th>Sex</th>\n",
       "      <th>Known_contact</th>\n",
       "    </tr>\n",
       "  </thead>\n",
       "  <tbody>\n",
       "  </tbody>\n",
       "</table>\n",
       "</div>"
      ],
      "text/plain": [
       "Empty DataFrame\n",
       "Columns: [Ind_ID, Test_date, Cough_symptoms, Fever, Sore_throat, Shortness_of_breath, Headache, Corona, Age_60_above, Sex, Known_contact]\n",
       "Index: []"
      ]
     },
     "execution_count": 7,
     "metadata": {},
     "output_type": "execute_result"
    }
   ],
   "source": [
    "df[df.duplicated()]"
   ]
  },
  {
   "cell_type": "code",
   "execution_count": 8,
   "metadata": {},
   "outputs": [
    {
     "data": {
      "text/plain": [
       "Ind_ID                 0\n",
       "Test_date              0\n",
       "Cough_symptoms         0\n",
       "Fever                  0\n",
       "Sore_throat            0\n",
       "Shortness_of_breath    0\n",
       "Headache               0\n",
       "Corona                 0\n",
       "Age_60_above           0\n",
       "Sex                    0\n",
       "Known_contact          0\n",
       "dtype: int64"
      ]
     },
     "execution_count": 8,
     "metadata": {},
     "output_type": "execute_result"
    }
   ],
   "source": [
    "df.isnull().sum()"
   ]
  },
  {
   "cell_type": "markdown",
   "metadata": {},
   "source": [
    "Our dataset has no repeated items and no missing information."
   ]
  },
  {
   "cell_type": "code",
   "execution_count": 9,
   "metadata": {},
   "outputs": [
    {
     "name": "stdout",
     "output_type": "stream",
     "text": [
      "False    127531\n",
      "FALSE    108837\n",
      "TRUE      21983\n",
      "True      20245\n",
      "None        252\n",
      "Name: Cough_symptoms, dtype: int64\n",
      "---------------------------\n",
      "False    137774\n",
      "FALSE    119070\n",
      "TRUE      11750\n",
      "True      10002\n",
      "None        252\n",
      "Name: Fever, dtype: int64\n",
      "---------------------------\n",
      "False    212584\n",
      "FALSE     64337\n",
      "TRUE       1198\n",
      "True        728\n",
      "None          1\n",
      "Name: Sore_throat, dtype: int64\n",
      "----------------------------\n",
      "False    212842\n",
      "FALSE     64428\n",
      "TRUE       1107\n",
      "True        470\n",
      "None          1\n",
      "Name: Shortness_of_breath, dtype: int64\n",
      "-------------------------------\n",
      "False    212326\n",
      "FALSE     64107\n",
      "TRUE       1428\n",
      "True        986\n",
      "None          1\n",
      "Name: Headache, dtype: int64\n",
      "-------------------------------\n",
      "None    127320\n",
      "No      125703\n",
      "Yes      25825\n",
      "Name: Age_60_above, dtype: int64\n",
      "-------------------------------\n",
      "female    130158\n",
      "male      129127\n",
      "None       19563\n",
      "Name: Sex, dtype: int64\n",
      "-------------------------------\n",
      "Other                     242741\n",
      "Abroad                     25468\n",
      "Contact with confirmed     10639\n",
      "Name: Known_contact, dtype: int64\n",
      "-------------------------------\n"
     ]
    }
   ],
   "source": [
    "print(df['Cough_symptoms'].value_counts())\n",
    "print('---------------------------')\n",
    "print(df['Fever'].value_counts())\n",
    "print('---------------------------')\n",
    "print(df['Sore_throat'].value_counts())\n",
    "print('----------------------------')\n",
    "print(df['Shortness_of_breath'].value_counts())\n",
    "print('-------------------------------')\n",
    "print(df['Headache'].value_counts())\n",
    "print('-------------------------------')\n",
    "print(df['Age_60_above'].value_counts())\n",
    "print('-------------------------------')\n",
    "print(df['Sex'].value_counts())\n",
    "print('-------------------------------')\n",
    "print(df['Known_contact'].value_counts())\n",
    "print('-------------------------------')"
   ]
  },
  {
   "cell_type": "markdown",
   "metadata": {},
   "source": [
    "We've noticed some \"None\" values in our dataset, and due to Python being case-sensitive, we're getting different counts for capitalized and lowercase instances. To address this, we're converting all values to lowercase. Additionally, we're handling \"None\" occurrences by either removing them from columns with few instances or replacing them with the mode in other columns."
   ]
  },
  {
   "cell_type": "code",
   "execution_count": 10,
   "metadata": {},
   "outputs": [],
   "source": [
    "#Changing all values in the columns to lowercase.\n",
    "df['Cough_symptoms'] = df['Cough_symptoms'].apply(lambda x: str(x).lower())\n",
    "df['Fever'] = df['Fever'].apply(lambda x: str(x).lower())\n",
    "df['Sore_throat'] = df['Sore_throat'].apply(lambda x: str(x).lower())\n",
    "df['Shortness_of_breath'] = df['Shortness_of_breath'].apply(lambda x: str(x).lower())\n",
    "df['Headache'] = df['Headache'].apply(lambda x: str(x).lower())"
   ]
  },
  {
   "cell_type": "code",
   "execution_count": 11,
   "metadata": {},
   "outputs": [
    {
     "name": "stdout",
     "output_type": "stream",
     "text": [
      "false    236368\n",
      "true      42228\n",
      "none        252\n",
      "Name: Cough_symptoms, dtype: int64\n",
      "---------------------------\n",
      "false    256844\n",
      "true      21752\n",
      "none        252\n",
      "Name: Fever, dtype: int64\n",
      "---------------------------\n",
      "false    276921\n",
      "true       1926\n",
      "none          1\n",
      "Name: Sore_throat, dtype: int64\n",
      "----------------------------\n",
      "false    277270\n",
      "true       1577\n",
      "none          1\n",
      "Name: Shortness_of_breath, dtype: int64\n",
      "-------------------------------\n",
      "false    276433\n",
      "true       2414\n",
      "none          1\n",
      "Name: Headache, dtype: int64\n"
     ]
    }
   ],
   "source": [
    "print(df['Cough_symptoms'].value_counts())\n",
    "print('---------------------------')\n",
    "print(df['Fever'].value_counts())\n",
    "print('---------------------------')\n",
    "print(df['Sore_throat'].value_counts())\n",
    "print('----------------------------')\n",
    "print(df['Shortness_of_breath'].value_counts())\n",
    "print('-------------------------------')\n",
    "print(df['Headache'].value_counts())"
   ]
  },
  {
   "cell_type": "code",
   "execution_count": 12,
   "metadata": {},
   "outputs": [],
   "source": [
    "#Removing None Values\n",
    "df = df[df['Sore_throat']!='none']\n",
    "df = df[df['Shortness_of_breath']!='none']\n",
    "df = df[df['Headache']!='none']"
   ]
  },
  {
   "cell_type": "code",
   "execution_count": 13,
   "metadata": {},
   "outputs": [],
   "source": [
    "#Replacing None Values with Mode and Not Mentioned\n",
    "mode_value = df['Cough_symptoms'].mode().iloc[0]\n",
    "df['Cough_symptoms'] = df['Cough_symptoms'].replace('none', mode_value)\n",
    "df['Fever'] = df['Fever'].replace('none', mode_value)\n",
    "df['Sex'] = df['Sex'].replace('None', 'Not Mentioned')\n",
    "df['Age_60_above'] = df['Age_60_above'].replace('None', 'Not Mentioned')"
   ]
  },
  {
   "cell_type": "code",
   "execution_count": 14,
   "metadata": {},
   "outputs": [
    {
     "name": "stdout",
     "output_type": "stream",
     "text": [
      "false    236619\n",
      "true      42228\n",
      "Name: Cough_symptoms, dtype: int64\n",
      "---------------------------\n",
      "false    257095\n",
      "true      21752\n",
      "Name: Fever, dtype: int64\n",
      "---------------------------\n",
      "false    276921\n",
      "true       1926\n",
      "Name: Sore_throat, dtype: int64\n",
      "----------------------------\n",
      "false    277270\n",
      "true       1577\n",
      "Name: Shortness_of_breath, dtype: int64\n",
      "-------------------------------\n",
      "false    276433\n",
      "true       2414\n",
      "Name: Headache, dtype: int64\n",
      "-------------------------------\n",
      "female           130158\n",
      "male             129127\n",
      "Not Mentioned     19562\n",
      "Name: Sex, dtype: int64\n"
     ]
    }
   ],
   "source": [
    "print(df['Cough_symptoms'].value_counts())\n",
    "print('---------------------------')\n",
    "print(df['Fever'].value_counts())\n",
    "print('---------------------------')\n",
    "print(df['Sore_throat'].value_counts())\n",
    "print('----------------------------')\n",
    "print(df['Shortness_of_breath'].value_counts())\n",
    "print('-------------------------------')\n",
    "print(df['Headache'].value_counts())\n",
    "print('-------------------------------')\n",
    "print(df['Sex'].value_counts())"
   ]
  },
  {
   "cell_type": "markdown",
   "metadata": {},
   "source": [
    "Now, we've accurately tallied the values in each column."
   ]
  },
  {
   "cell_type": "markdown",
   "metadata": {},
   "source": [
    "We're going to analyze some columns using statistical testing and hypothesis testing. Let's assume there's no strong connection between the Fever and Corona columns. Now, I'll explain the method I'm using to check if there's a meaningful association between them."
   ]
  },
  {
   "cell_type": "code",
   "execution_count": 15,
   "metadata": {},
   "outputs": [
    {
     "name": "stdout",
     "output_type": "stream",
     "text": [
      "Corona  negative  other  positive\n",
      "Fever                            \n",
      "false        876      7        32\n",
      "true          61      2        22\n"
     ]
    }
   ],
   "source": [
    "df_sample1 = df.sample(1000)\n",
    "contingency_table = pd.crosstab(df_sample1['Fever'], df_sample1['Corona'])\n",
    "print(contingency_table)"
   ]
  },
  {
   "cell_type": "code",
   "execution_count": 16,
   "metadata": {},
   "outputs": [
    {
     "name": "stdout",
     "output_type": "stream",
     "text": [
      "Chi-square statistic: 79.12043766262983\n",
      "P-value: 6.5950069670186234e-18\n",
      "There is a significant association between the two columns.\n"
     ]
    }
   ],
   "source": [
    "import pandas as pd\n",
    "from scipy.stats import chi2_contingency\n",
    "\n",
    "statistic, p_value, _, _ = chi2_contingency(contingency_table)\n",
    "\n",
    "print(f'Chi-square statistic: {statistic}')\n",
    "print(f'P-value: {p_value}')\n",
    "\n",
    "\n",
    "alpha = 0.05 #significance value \n",
    "if p_value < alpha:\n",
    "    print('There is a significant association between the two columns.')\n",
    "else:\n",
    "    print('There is no significant association between the two columns.')\n"
   ]
  },
  {
   "cell_type": "code",
   "execution_count": 17,
   "metadata": {},
   "outputs": [
    {
     "name": "stdout",
     "output_type": "stream",
     "text": [
      "Matrix of Corona positive/negative counts based on Cough_symptoms:\n",
      "Corona          negative  other  positive\n",
      "Cough_symptoms                           \n",
      "false             225240   3235      8144\n",
      "true               34987    657      6584\n"
     ]
    }
   ],
   "source": [
    "corona_cough_matrix = pd.crosstab(df['Cough_symptoms'], df['Corona'])\n",
    "\n",
    "print(\"Matrix of Corona positive/negative counts based on Cough_symptoms:\")\n",
    "print(corona_cough_matrix)"
   ]
  },
  {
   "cell_type": "code",
   "execution_count": 18,
   "metadata": {},
   "outputs": [
    {
     "name": "stdout",
     "output_type": "stream",
     "text": [
      "Matrix of Fever True/False counts based on Cough_symptoms:\n",
      "Fever            false   true\n",
      "Cough_symptoms               \n",
      "false           230342   6277\n",
      "true             26753  15475\n"
     ]
    }
   ],
   "source": [
    "corona_Fever_matrix = pd.crosstab(df['Cough_symptoms'], df['Fever'])\n",
    "\n",
    "print(\"Matrix of Fever True/False counts based on Cough_symptoms:\")\n",
    "print(corona_Fever_matrix)"
   ]
  },
  {
   "cell_type": "markdown",
   "metadata": {},
   "source": [
    "\"Let's explore the corona dataset with some visual graphs for a better understanding.\""
   ]
  },
  {
   "cell_type": "code",
   "execution_count": 19,
   "metadata": {},
   "outputs": [
    {
     "data": {
      "text/plain": [
       "<AxesSubplot:xlabel='Corona', ylabel='count'>"
      ]
     },
     "execution_count": 19,
     "metadata": {},
     "output_type": "execute_result"
    },
    {
     "data": {
      "image/png": "[encoded data removed]",
      "text/plain": [
       "<Figure size 864x432 with 1 Axes>"
      ]
     },
     "metadata": {
      "needs_background": "light"
     },
     "output_type": "display_data"
    }
   ],
   "source": [
    "plt.figure(figsize=(12,6))\n",
    "sns.countplot(x=df['Corona'])"
   ]
  },
  {
   "cell_type": "markdown",
   "metadata": {},
   "source": [
    "This indicates that the dataset mainly includes patients with negative results. However, it also reveals the presence of some positive results and patients with different reasons for their conditions."
   ]
  },
  {
   "cell_type": "code",
   "execution_count": 20,
   "metadata": {},
   "outputs": [
    {
     "data": {
      "image/png": "[encoded data removed]",
      "text/plain": [
       "<Figure size 936x576 with 2 Axes>"
      ]
     },
     "metadata": {
      "needs_background": "light"
     },
     "output_type": "display_data"
    }
   ],
   "source": [
    "plt.figure(figsize=(13,8))\n",
    "plt.subplot(1,2,1)\n",
    "sns.countplot(x=df['Corona'],hue=df['Known_contact'])\n",
    "plt.subplot(1,2,2)\n",
    "sns.countplot(x=df['Corona'],hue=df['Sex'])\n",
    "plt.show()"
   ]
  },
  {
   "cell_type": "markdown",
   "metadata": {},
   "source": [
    "We observe that the majority of positive cases result from contact with people, with fewer cases originating from abroad. Additionally, it's noticeable that males are more affected than females in terms of gender distribution."
   ]
  },
  {
   "cell_type": "code",
   "execution_count": 21,
   "metadata": {},
   "outputs": [
    {
     "data": {
      "image/png": "[encoded data removed]",
      "text/plain": [
       "<Figure size 936x576 with 5 Axes>"
      ]
     },
     "metadata": {
      "needs_background": "light"
     },
     "output_type": "display_data"
    }
   ],
   "source": [
    "plt.figure(figsize=(13,8))\n",
    "plt.subplot(2,3,1)\n",
    "sns.countplot(x=df['Corona'],hue=df['Cough_symptoms'])\n",
    "plt.subplot(2,3,2)\n",
    "sns.countplot(x=df['Corona'],hue=df['Fever'])\n",
    "plt.subplot(2,3,3)\n",
    "sns.countplot(x=df['Corona'],hue=df['Sore_throat'])\n",
    "plt.subplot(2,3,4)\n",
    "sns.countplot(x=df['Corona'],hue=df['Shortness_of_breath'])\n",
    "plt.subplot(2,3,5)\n",
    "sns.countplot(x=df['Corona'],hue=df['Headache'])\n",
    "plt.tight_layout()\n",
    "plt.show()\n",
    "#The Most Highlighting - Cough Symp and Fev"
   ]
  },
  {
   "cell_type": "markdown",
   "metadata": {},
   "source": [
    "The graph indicates that people with positive cases mostly experience symptoms like cough and fever. Therefore, it suggests a strong likelihood of a person being positive if they exhibit these common symptoms observed in positive patients."
   ]
  },
  {
   "cell_type": "code",
   "execution_count": 22,
   "metadata": {},
   "outputs": [],
   "source": [
    "df['Test_date'] = df['Test_date'].astype('datetime64')\n",
    "df['Month'] = df['Test_date'].dt.month\n",
    "df['Year']=df['Test_date'].dt.year"
   ]
  },
  {
   "cell_type": "code",
   "execution_count": 23,
   "metadata": {},
   "outputs": [],
   "source": [
    "df = df.drop(columns=['Test_date'])\n",
    "df = df.drop(columns=['Year'])"
   ]
  },
  {
   "cell_type": "code",
   "execution_count": 24,
   "metadata": {},
   "outputs": [
    {
     "data": {
      "text/html": [
       "<div>\n",
       "<style scoped>\n",
       "    .dataframe tbody tr th:only-of-type {\n",
       "        vertical-align: middle;\n",
       "    }\n",
       "\n",
       "    .dataframe tbody tr th {\n",
       "        vertical-align: top;\n",
       "    }\n",
       "\n",
       "    .dataframe thead th {\n",
       "        text-align: right;\n",
       "    }\n",
       "</style>\n",
       "<table border=\"1\" class=\"dataframe\">\n",
       "  <thead>\n",
       "    <tr style=\"text-align: right;\">\n",
       "      <th></th>\n",
       "      <th>Ind_ID</th>\n",
       "      <th>Corona</th>\n",
       "      <th>Month</th>\n",
       "      <th>Cough_symptoms_true</th>\n",
       "      <th>Fever_true</th>\n",
       "      <th>Sore_throat_true</th>\n",
       "      <th>Shortness_of_breath_true</th>\n",
       "      <th>Headache_true</th>\n",
       "      <th>Known_contact_Contact with confirmed</th>\n",
       "      <th>Known_contact_Other</th>\n",
       "      <th>Sex_female</th>\n",
       "      <th>Sex_male</th>\n",
       "      <th>Age_60_above_Not Mentioned</th>\n",
       "      <th>Age_60_above_Yes</th>\n",
       "    </tr>\n",
       "  </thead>\n",
       "  <tbody>\n",
       "    <tr>\n",
       "      <th>0</th>\n",
       "      <td>1</td>\n",
       "      <td>negative</td>\n",
       "      <td>11</td>\n",
       "      <td>1</td>\n",
       "      <td>0</td>\n",
       "      <td>1</td>\n",
       "      <td>0</td>\n",
       "      <td>0</td>\n",
       "      <td>0</td>\n",
       "      <td>0</td>\n",
       "      <td>0</td>\n",
       "      <td>0</td>\n",
       "      <td>1</td>\n",
       "      <td>0</td>\n",
       "    </tr>\n",
       "    <tr>\n",
       "      <th>1</th>\n",
       "      <td>2</td>\n",
       "      <td>positive</td>\n",
       "      <td>11</td>\n",
       "      <td>0</td>\n",
       "      <td>1</td>\n",
       "      <td>0</td>\n",
       "      <td>0</td>\n",
       "      <td>0</td>\n",
       "      <td>0</td>\n",
       "      <td>0</td>\n",
       "      <td>0</td>\n",
       "      <td>0</td>\n",
       "      <td>1</td>\n",
       "      <td>0</td>\n",
       "    </tr>\n",
       "    <tr>\n",
       "      <th>2</th>\n",
       "      <td>3</td>\n",
       "      <td>positive</td>\n",
       "      <td>11</td>\n",
       "      <td>0</td>\n",
       "      <td>1</td>\n",
       "      <td>0</td>\n",
       "      <td>0</td>\n",
       "      <td>0</td>\n",
       "      <td>0</td>\n",
       "      <td>0</td>\n",
       "      <td>0</td>\n",
       "      <td>0</td>\n",
       "      <td>1</td>\n",
       "      <td>0</td>\n",
       "    </tr>\n",
       "    <tr>\n",
       "      <th>3</th>\n",
       "      <td>4</td>\n",
       "      <td>negative</td>\n",
       "      <td>11</td>\n",
       "      <td>1</td>\n",
       "      <td>0</td>\n",
       "      <td>0</td>\n",
       "      <td>0</td>\n",
       "      <td>0</td>\n",
       "      <td>0</td>\n",
       "      <td>0</td>\n",
       "      <td>0</td>\n",
       "      <td>0</td>\n",
       "      <td>1</td>\n",
       "      <td>0</td>\n",
       "    </tr>\n",
       "    <tr>\n",
       "      <th>4</th>\n",
       "      <td>5</td>\n",
       "      <td>negative</td>\n",
       "      <td>11</td>\n",
       "      <td>1</td>\n",
       "      <td>0</td>\n",
       "      <td>0</td>\n",
       "      <td>0</td>\n",
       "      <td>0</td>\n",
       "      <td>1</td>\n",
       "      <td>0</td>\n",
       "      <td>0</td>\n",
       "      <td>0</td>\n",
       "      <td>1</td>\n",
       "      <td>0</td>\n",
       "    </tr>\n",
       "  </tbody>\n",
       "</table>\n",
       "</div>"
      ],
      "text/plain": [
       "   Ind_ID    Corona  Month  Cough_symptoms_true  Fever_true  Sore_throat_true  \\\n",
       "0       1  negative     11                    1           0                 1   \n",
       "1       2  positive     11                    0           1                 0   \n",
       "2       3  positive     11                    0           1                 0   \n",
       "3       4  negative     11                    1           0                 0   \n",
       "4       5  negative     11                    1           0                 0   \n",
       "\n",
       "   Shortness_of_breath_true  Headache_true  \\\n",
       "0                         0              0   \n",
       "1                         0              0   \n",
       "2                         0              0   \n",
       "3                         0              0   \n",
       "4                         0              0   \n",
       "\n",
       "   Known_contact_Contact with confirmed  Known_contact_Other  Sex_female  \\\n",
       "0                                     0                    0           0   \n",
       "1                                     0                    0           0   \n",
       "2                                     0                    0           0   \n",
       "3                                     0                    0           0   \n",
       "4                                     1                    0           0   \n",
       "\n",
       "   Sex_male  Age_60_above_Not Mentioned  Age_60_above_Yes  \n",
       "0         0                           1                 0  \n",
       "1         0                           1                 0  \n",
       "2         0                           1                 0  \n",
       "3         0                           1                 0  \n",
       "4         0                           1                 0  "
      ]
     },
     "execution_count": 24,
     "metadata": {},
     "output_type": "execute_result"
    }
   ],
   "source": [
    "df_encoded = pd.get_dummies(df, columns=['Cough_symptoms','Fever','Sore_throat','Shortness_of_breath','Headache','Known_contact','Sex','Age_60_above'],drop_first=True)\n",
    "df_encoded.head()"
   ]
  },
  {
   "cell_type": "markdown",
   "metadata": {},
   "source": [
    "We now have prepared data ready to be used in our model for making predictions."
   ]
  },
  {
   "cell_type": "code",
   "execution_count": 25,
   "metadata": {},
   "outputs": [],
   "source": [
    "df_encoded = df_encoded.drop(columns=['Ind_ID'])"
   ]
  },
  {
   "cell_type": "code",
   "execution_count": 26,
   "metadata": {},
   "outputs": [
    {
     "name": "stdout",
     "output_type": "stream",
     "text": [
      "<class 'pandas.core.frame.DataFrame'>\n",
      "Int64Index: 278847 entries, 0 to 278847\n",
      "Data columns (total 13 columns):\n",
      " #   Column                                Non-Null Count   Dtype \n",
      "---  ------                                --------------   ----- \n",
      " 0   Corona                                278847 non-null  object\n",
      " 1   Month                                 278847 non-null  int64 \n",
      " 2   Cough_symptoms_true                   278847 non-null  uint8 \n",
      " 3   Fever_true                            278847 non-null  uint8 \n",
      " 4   Sore_throat_true                      278847 non-null  uint8 \n",
      " 5   Shortness_of_breath_true              278847 non-null  uint8 \n",
      " 6   Headache_true                         278847 non-null  uint8 \n",
      " 7   Known_contact_Contact with confirmed  278847 non-null  uint8 \n",
      " 8   Known_contact_Other                   278847 non-null  uint8 \n",
      " 9   Sex_female                            278847 non-null  uint8 \n",
      " 10  Sex_male                              278847 non-null  uint8 \n",
      " 11  Age_60_above_Not Mentioned            278847 non-null  uint8 \n",
      " 12  Age_60_above_Yes                      278847 non-null  uint8 \n",
      "dtypes: int64(1), object(1), uint8(11)\n",
      "memory usage: 19.3+ MB\n"
     ]
    }
   ],
   "source": [
    "df_encoded.info()"
   ]
  },
  {
   "cell_type": "code",
   "execution_count": 27,
   "metadata": {},
   "outputs": [],
   "source": [
    "X = df_encoded.drop('Corona', axis=1)  # Features\n",
    "y = df_encoded['Corona']  # Target variable"
   ]
  },
  {
   "cell_type": "code",
   "execution_count": 28,
   "metadata": {},
   "outputs": [],
   "source": [
    "from sklearn.model_selection import train_test_split\n",
    "\n",
    "X_train, X_test, y_train, y_test = train_test_split(X, y, test_size=0.2, random_state=0)"
   ]
  },
  {
   "cell_type": "code",
   "execution_count": 29,
   "metadata": {},
   "outputs": [
    {
     "data": {
      "text/html": [
       "<style>#sk-container-id-1 {color: black;background-color: white;}#sk-container-id-1 pre{padding: 0;}#sk-container-id-1 div.sk-toggleable {background-color: white;}#sk-container-id-1 label.sk-toggleable__label {cursor: pointer;display: block;width: 100%;margin-bottom: 0;padding: 0.3em;box-sizing: border-box;text-align: center;}#sk-container-id-1 label.sk-toggleable__label-arrow:before {content: \"▸\";float: left;margin-right: 0.25em;color: #696969;}#sk-container-id-1 label.sk-toggleable__label-arrow:hover:before {color: black;}#sk-container-id-1 div.sk-estimator:hover label.sk-toggleable__label-arrow:before {color: black;}#sk-container-id-1 div.sk-toggleable__content {max-height: 0;max-width: 0;overflow: hidden;text-align: left;background-color: #f0f8ff;}#sk-container-id-1 div.sk-toggleable__content pre {margin: 0.2em;color: black;border-radius: 0.25em;background-color: #f0f8ff;}#sk-container-id-1 input.sk-toggleable__control:checked~div.sk-toggleable__content {max-height: 200px;max-width: 100%;overflow: auto;}#sk-container-id-1 input.sk-toggleable__control:checked~label.sk-toggleable__label-arrow:before {content: \"▾\";}#sk-container-id-1 div.sk-estimator input.sk-toggleable__control:checked~label.sk-toggleable__label {background-color: #d4ebff;}#sk-container-id-1 div.sk-label input.sk-toggleable__control:checked~label.sk-toggleable__label {background-color: #d4ebff;}#sk-container-id-1 input.sk-hidden--visually {border: 0;clip: rect(1px 1px 1px 1px);clip: rect(1px, 1px, 1px, 1px);height: 1px;margin: -1px;overflow: hidden;padding: 0;position: absolute;width: 1px;}#sk-container-id-1 div.sk-estimator {font-family: monospace;background-color: #f0f8ff;border: 1px dotted black;border-radius: 0.25em;box-sizing: border-box;margin-bottom: 0.5em;}#sk-container-id-1 div.sk-estimator:hover {background-color: #d4ebff;}#sk-container-id-1 div.sk-parallel-item::after {content: \"\";width: 100%;border-bottom: 1px solid gray;flex-grow: 1;}#sk-container-id-1 div.sk-label:hover label.sk-toggleable__label {background-color: #d4ebff;}#sk-container-id-1 div.sk-serial::before {content: \"\";position: absolute;border-left: 1px solid gray;box-sizing: border-box;top: 0;bottom: 0;left: 50%;z-index: 0;}#sk-container-id-1 div.sk-serial {display: flex;flex-direction: column;align-items: center;background-color: white;padding-right: 0.2em;padding-left: 0.2em;position: relative;}#sk-container-id-1 div.sk-item {position: relative;z-index: 1;}#sk-container-id-1 div.sk-parallel {display: flex;align-items: stretch;justify-content: center;background-color: white;position: relative;}#sk-container-id-1 div.sk-item::before, #sk-container-id-1 div.sk-parallel-item::before {content: \"\";position: absolute;border-left: 1px solid gray;box-sizing: border-box;top: 0;bottom: 0;left: 50%;z-index: -1;}#sk-container-id-1 div.sk-parallel-item {display: flex;flex-direction: column;z-index: 1;position: relative;background-color: white;}#sk-container-id-1 div.sk-parallel-item:first-child::after {align-self: flex-end;width: 50%;}#sk-container-id-1 div.sk-parallel-item:last-child::after {align-self: flex-start;width: 50%;}#sk-container-id-1 div.sk-parallel-item:only-child::after {width: 0;}#sk-container-id-1 div.sk-dashed-wrapped {border: 1px dashed gray;margin: 0 0.4em 0.5em 0.4em;box-sizing: border-box;padding-bottom: 0.4em;background-color: white;}#sk-container-id-1 div.sk-label label {font-family: monospace;font-weight: bold;display: inline-block;line-height: 1.2em;}#sk-container-id-1 div.sk-label-container {text-align: center;}#sk-container-id-1 div.sk-container {/* jupyter's `normalize.less` sets `[hidden] { display: none; }` but bootstrap.min.css set `[hidden] { display: none !important; }` so we also need the `!important` here to be able to override the default hidden behavior on the sphinx rendered scikit-learn.org. See: https://github.com/scikit-learn/scikit-learn/issues/21755 */display: inline-block !important;position: relative;}#sk-container-id-1 div.sk-text-repr-fallback {display: none;}</style><div id=\"sk-container-id-1\" class=\"sk-top-container\"><div class=\"sk-text-repr-fallback\"><pre>RandomForestClassifier()</pre><b>In a Jupyter environment, please rerun this cell to show the HTML representation or trust the notebook. <br />On GitHub, the HTML representation is unable to render, please try loading this page with nbviewer.org.</b></div><div class=\"sk-container\" hidden><div class=\"sk-item\"><div class=\"sk-estimator sk-toggleable\"><input class=\"sk-toggleable__control sk-hidden--visually\" id=\"sk-estimator-id-1\" type=\"checkbox\" checked><label for=\"sk-estimator-id-1\" class=\"sk-toggleable__label sk-toggleable__label-arrow\">RandomForestClassifier</label><div class=\"sk-toggleable__content\"><pre>RandomForestClassifier()</pre></div></div></div></div></div>"
      ],
      "text/plain": [
       "RandomForestClassifier()"
      ]
     },
     "execution_count": 29,
     "metadata": {},
     "output_type": "execute_result"
    }
   ],
   "source": [
    "from sklearn.ensemble import RandomForestClassifier  \n",
    "\n",
    "model = RandomForestClassifier()\n",
    "model.fit(X_train, y_train)"
   ]
  },
  {
   "cell_type": "code",
   "execution_count": 30,
   "metadata": {},
   "outputs": [
    {
     "name": "stdout",
     "output_type": "stream",
     "text": [
      "Accuracy: 0.9559799175183791\n",
      "Classification Report:\n",
      "              precision    recall  f1-score   support\n",
      "\n",
      "    negative       0.96      0.99      0.98     51990\n",
      "       other       0.00      0.00      0.00       822\n",
      "    positive       0.77      0.61      0.68      2958\n",
      "\n",
      "    accuracy                           0.96     55770\n",
      "   macro avg       0.58      0.53      0.55     55770\n",
      "weighted avg       0.94      0.96      0.95     55770\n",
      "\n"
     ]
    }
   ],
   "source": [
    "from sklearn.metrics import accuracy_score, classification_report , precision_score , recall_score\n",
    "\n",
    "y_pred = model.predict(X_test)\n",
    "\n",
    "accuracy = accuracy_score(y_test, y_pred)\n",
    "print(f'Accuracy: {accuracy}')\n",
    "\n",
    "print('Classification Report:')\n",
    "print(classification_report(y_test, y_pred))"
   ]
  },
  {
   "cell_type": "markdown",
   "metadata": {},
   "source": [
    "Now, we're dealing with a Multi-class classification challenge, where each class is treated independently. To better assess our model, we'll compute micro, macro, and weighted precision and recall. Using these metrics helps us get a clearer picture of the performance in this type of situation."
   ]
  },
  {
   "cell_type": "code",
   "execution_count": 31,
   "metadata": {
    "scrolled": true
   },
   "outputs": [
    {
     "name": "stdout",
     "output_type": "stream",
     "text": [
      "Precision (Micro): 0.96\n",
      "Precision (Macro): 0.58\n",
      "Precision (Weighted): 0.94\n"
     ]
    }
   ],
   "source": [
    "precision_micro = precision_score(y_test, y_pred, average='micro')\n",
    "print(f'Precision (Micro): {precision_micro:.2f}')\n",
    "precision_macro = precision_score(y_test, y_pred, average='macro')\n",
    "print(f'Precision (Macro): {precision_macro:.2f}')\n",
    "precision_weighted = precision_score(y_test, y_pred, average='weighted')\n",
    "print(f'Precision (Weighted): {precision_weighted:.2f}')\n"
   ]
  },
  {
   "cell_type": "code",
   "execution_count": 32,
   "metadata": {},
   "outputs": [
    {
     "name": "stdout",
     "output_type": "stream",
     "text": [
      "Recall (Micro): 0.96\n",
      "Recall (Macro): 0.53\n",
      "Recall (Weighted): 0.96\n"
     ]
    }
   ],
   "source": [
    "recall_micro = recall_score(y_test,y_pred,average='micro')\n",
    "print(f'Recall (Micro): {recall_micro:.2f}')\n",
    "recall_macro = recall_score(y_test,y_pred,average='macro')\n",
    "print(f'Recall (Macro): {recall_macro:.2f}')\n",
    "recall_weighted = recall_score(y_test,y_pred,average='weighted')\n",
    "print(f'Recall (Weighted): {recall_weighted:.2f}')"
   ]
  },
  {
   "cell_type": "code",
   "execution_count": 34,
   "metadata": {},
   "outputs": [
    {
     "name": "stdout",
     "output_type": "stream",
     "text": [
      "Cross-Validation Scores: [0.92268245 0.47835754 0.51442558 0.93720526 0.93322455]\n",
      "Mean Accuracy: 0.7571790742527724\n"
     ]
    }
   ],
   "source": [
    "from sklearn.model_selection import cross_val_score\n",
    "from sklearn.ensemble import RandomForestClassifier\n",
    "\n",
    "model = RandomForestClassifier()\n",
    "\n",
    "scores = cross_val_score(model, X, y, cv=5, scoring='accuracy')\n",
    "\n",
    "print(\"Cross-Validation Scores:\", scores)\n",
    "print(\"Mean Accuracy:\", scores.mean())"
   ]
  },
  {
   "cell_type": "markdown",
   "metadata": {},
   "source": [
    "The cross-validation scores, ranging from 0.48 to 0.94, show how well our RandomForestClassifier model performs on different subsets of the data. The average accuracy, at 0.76, indicates the overall effectiveness of our model, suggesting it's a promising approach for creating a better-performing model."
   ]
  },
  {
   "cell_type": "code",
   "execution_count": null,
   "metadata": {},
   "outputs": [],
   "source": [
    "df_encoded.to_csv('clean_data.csv', index=False) "
   ]
  },
  {
   "cell_type": "markdown",
   "metadata": {},
   "source": [
    "For the SQL Queries : https://colab.research.google.com/drive/1P1igWGBQfj6LSmkmfZATan-tQZIk107R?usp=sharing"
   ]
  }
 ],
 "metadata": {
  "kernelspec": {
   "display_name": "Python 3",
   "language": "python",
   "name": "python3"
  },
  "language_info": {
   "codemirror_mode": {
    "name": "ipython",
    "version": 3
   },
   "file_extension": ".py",
   "mimetype": "text/x-python",
   "name": "python",
   "nbconvert_exporter": "python",
   "pygments_lexer": "ipython3",
   "version": "3.8.5"
  }
 },
 "nbformat": 4,
 "nbformat_minor": 4
}
